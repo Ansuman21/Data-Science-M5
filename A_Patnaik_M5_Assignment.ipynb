{
 "cells": [
  {
   "cell_type": "markdown",
   "id": "175b811d",
   "metadata": {},
   "source": [
    "<center>\n",
    "\n",
    "# _Understanding Classification Model Performance Metrics_\n",
    "\n",
    "</center>"
   ]
  },
  {
   "cell_type": "markdown",
   "id": "225984ed",
   "metadata": {},
   "source": [
    "<center>\n",
    "    \n",
    "## A_Patnaik_M5_Assignment\n",
    "\n",
    "</center>"
   ]
  },
  {
   "cell_type": "markdown",
   "id": "d58feb51",
   "metadata": {},
   "source": [
    "## Introduction:\n",
    "<br>\n",
    "The objective of this assignment is to evaluate the performance of a classification model using various performance metrics and visualization techniques in Python. The dataset consists of approximately 180 labeled binary observations with classifications '0' or '1'. A classification model has been applied to predict the actual classifications based on the probability score that the correct classification for each observation is '1'. The dataset includes three attributes: 'class' (actual classification), 'scored.class' (predicted classification), and 'scored.probability' (probability score).\n",
    "\n",
    "**To address this problem, the following steps were taken:**\n",
    "<br>\n",
    "1. Data loading & exploration\n",
    "<br>\n",
    "2. Confusion matrix calculation\n",
    "<br>\n",
    "3. Extract confusion matrix values\n",
    "<br>\n",
    "4. Accuracy metric calculation function\n",
    "<br>\n",
    "5. Precision metric calculation function\n",
    "<br>\n",
    "6. Sensitivity(Recall) metric calculation function\n",
    "<br>\n",
    "7. Specificity metric calculation function\n",
    "<br>\n",
    "8. F1 Score metric calculation function\n",
    "<br>\n",
    "9. ROC Curve & AUC calculation function\n",
    "<br>\n",
    "10. Applying functions to relevant columns\n",
    "<br>\n",
    "11. Comparision with scikit-learn function\n",
    "<br>\n",
    "12. Comparision with scikit-learn's ROC/AUC functions"
   ]
  },
  {
   "cell_type": "markdown",
   "id": "3b297f5c",
   "metadata": {},
   "source": [
    "## 1. Data Loading & Exploration"
   ]
  },
  {
   "cell_type": "code",
   "execution_count": 1,
   "id": "0317540b",
   "metadata": {},
   "outputs": [],
   "source": [
    "# Import Libraries\n",
    "import pandas as pd\n",
    "import numpy as np\n",
    "import mplcursors\n",
    "import matplotlib.pyplot as plt\n",
    "from sklearn.metrics import plot_roc_curve\n",
    "from sklearn.metrics import RocCurveDisplay, roc_auc_score"
   ]
  },
  {
   "cell_type": "code",
   "execution_count": 2,
   "id": "f9d77218",
   "metadata": {},
   "outputs": [
    {
     "data": {
      "text/html": [
       "<div>\n",
       "<style scoped>\n",
       "    .dataframe tbody tr th:only-of-type {\n",
       "        vertical-align: middle;\n",
       "    }\n",
       "\n",
       "    .dataframe tbody tr th {\n",
       "        vertical-align: top;\n",
       "    }\n",
       "\n",
       "    .dataframe thead th {\n",
       "        text-align: right;\n",
       "    }\n",
       "</style>\n",
       "<table border=\"1\" class=\"dataframe\">\n",
       "  <thead>\n",
       "    <tr style=\"text-align: right;\">\n",
       "      <th></th>\n",
       "      <th>pregnant</th>\n",
       "      <th>glucose</th>\n",
       "      <th>diastolic</th>\n",
       "      <th>skinfold</th>\n",
       "      <th>insulin</th>\n",
       "      <th>bmi</th>\n",
       "      <th>pedigree</th>\n",
       "      <th>age</th>\n",
       "      <th>class</th>\n",
       "      <th>scored.class</th>\n",
       "      <th>scored.probability</th>\n",
       "    </tr>\n",
       "  </thead>\n",
       "  <tbody>\n",
       "    <tr>\n",
       "      <th>0</th>\n",
       "      <td>7</td>\n",
       "      <td>124</td>\n",
       "      <td>70</td>\n",
       "      <td>33</td>\n",
       "      <td>215</td>\n",
       "      <td>25.5</td>\n",
       "      <td>0.161</td>\n",
       "      <td>37</td>\n",
       "      <td>0</td>\n",
       "      <td>0</td>\n",
       "      <td>0.328452</td>\n",
       "    </tr>\n",
       "    <tr>\n",
       "      <th>1</th>\n",
       "      <td>2</td>\n",
       "      <td>122</td>\n",
       "      <td>76</td>\n",
       "      <td>27</td>\n",
       "      <td>200</td>\n",
       "      <td>35.9</td>\n",
       "      <td>0.483</td>\n",
       "      <td>26</td>\n",
       "      <td>0</td>\n",
       "      <td>0</td>\n",
       "      <td>0.273190</td>\n",
       "    </tr>\n",
       "    <tr>\n",
       "      <th>2</th>\n",
       "      <td>3</td>\n",
       "      <td>107</td>\n",
       "      <td>62</td>\n",
       "      <td>13</td>\n",
       "      <td>48</td>\n",
       "      <td>22.9</td>\n",
       "      <td>0.678</td>\n",
       "      <td>23</td>\n",
       "      <td>1</td>\n",
       "      <td>0</td>\n",
       "      <td>0.109660</td>\n",
       "    </tr>\n",
       "    <tr>\n",
       "      <th>3</th>\n",
       "      <td>1</td>\n",
       "      <td>91</td>\n",
       "      <td>64</td>\n",
       "      <td>24</td>\n",
       "      <td>0</td>\n",
       "      <td>29.2</td>\n",
       "      <td>0.192</td>\n",
       "      <td>21</td>\n",
       "      <td>0</td>\n",
       "      <td>0</td>\n",
       "      <td>0.055998</td>\n",
       "    </tr>\n",
       "    <tr>\n",
       "      <th>4</th>\n",
       "      <td>4</td>\n",
       "      <td>83</td>\n",
       "      <td>86</td>\n",
       "      <td>19</td>\n",
       "      <td>0</td>\n",
       "      <td>29.3</td>\n",
       "      <td>0.317</td>\n",
       "      <td>34</td>\n",
       "      <td>0</td>\n",
       "      <td>0</td>\n",
       "      <td>0.100491</td>\n",
       "    </tr>\n",
       "  </tbody>\n",
       "</table>\n",
       "</div>"
      ],
      "text/plain": [
       "   pregnant  glucose  diastolic  skinfold  insulin   bmi  pedigree  age  \\\n",
       "0         7      124         70        33      215  25.5     0.161   37   \n",
       "1         2      122         76        27      200  35.9     0.483   26   \n",
       "2         3      107         62        13       48  22.9     0.678   23   \n",
       "3         1       91         64        24        0  29.2     0.192   21   \n",
       "4         4       83         86        19        0  29.3     0.317   34   \n",
       "\n",
       "   class  scored.class  scored.probability  \n",
       "0      0             0            0.328452  \n",
       "1      0             0            0.273190  \n",
       "2      1             0            0.109660  \n",
       "3      0             0            0.055998  \n",
       "4      0             0            0.100491  "
      ]
     },
     "execution_count": 2,
     "metadata": {},
     "output_type": "execute_result"
    }
   ],
   "source": [
    "# Load the dataset from the GitHub repository\n",
    "url = 'https://raw.githubusercontent.com/Ansuman21/Data-Science-M5/main/M5_Data.csv'\n",
    "data = pd.read_csv(url)\n",
    "\n",
    "# Display the first few rows of the dataframe to inspect the data\n",
    "data.head(5)"
   ]
  },
  {
   "cell_type": "markdown",
   "id": "e6287b59",
   "metadata": {},
   "source": [
    "#### Inference\n",
    "* Upon loading the dataset from the GitHub repository and inspecting the first few rows, it was observed that the data includes features such as 'class,' 'scored.class,' and 'scored.probability' for binary classification."
   ]
  },
  {
   "cell_type": "code",
   "execution_count": 3,
   "id": "c547d58d",
   "metadata": {},
   "outputs": [
    {
     "name": "stdout",
     "output_type": "stream",
     "text": [
      "<class 'pandas.core.frame.DataFrame'>\n",
      "RangeIndex: 181 entries, 0 to 180\n",
      "Data columns (total 11 columns):\n",
      " #   Column              Non-Null Count  Dtype  \n",
      "---  ------              --------------  -----  \n",
      " 0   pregnant            181 non-null    int64  \n",
      " 1   glucose             181 non-null    int64  \n",
      " 2   diastolic           181 non-null    int64  \n",
      " 3   skinfold            181 non-null    int64  \n",
      " 4   insulin             181 non-null    int64  \n",
      " 5   bmi                 181 non-null    float64\n",
      " 6   pedigree            181 non-null    float64\n",
      " 7   age                 181 non-null    int64  \n",
      " 8   class               181 non-null    int64  \n",
      " 9   scored.class        181 non-null    int64  \n",
      " 10  scored.probability  181 non-null    float64\n",
      "dtypes: float64(3), int64(8)\n",
      "memory usage: 15.7 KB\n"
     ]
    }
   ],
   "source": [
    "# Check data types and missing values\n",
    "data.info()"
   ]
  },
  {
   "cell_type": "markdown",
   "id": "801dba63",
   "metadata": {},
   "source": [
    "#### Inference\n",
    "* The dataset, comprising 181 entries, contained features related to health indicators, such as 'pregnant,' 'glucose,' and 'bmi,' alongside binary classification labels ('class,' 'scored.class,' and 'scored.probability')."
   ]
  },
  {
   "cell_type": "code",
   "execution_count": 4,
   "id": "616593f1",
   "metadata": {},
   "outputs": [
    {
     "name": "stdout",
     "output_type": "stream",
     "text": [
      "Missing Values:\n",
      "pregnant              0\n",
      "glucose               0\n",
      "diastolic             0\n",
      "skinfold              0\n",
      "insulin               0\n",
      "bmi                   0\n",
      "pedigree              0\n",
      "age                   0\n",
      "class                 0\n",
      "scored.class          0\n",
      "scored.probability    0\n",
      "dtype: int64\n"
     ]
    }
   ],
   "source": [
    "# Check for missing values\n",
    "print(\"Missing Values:\")\n",
    "print(data.isnull().sum())"
   ]
  },
  {
   "cell_type": "markdown",
   "id": "0f663ee1",
   "metadata": {},
   "source": [
    "#### Inference\n",
    "* No missing values were present in the dataset. All columns, including health indicators and binary classification labels, had complete data, facilitating a robust analysis without the need for imputation."
   ]
  },
  {
   "cell_type": "code",
   "execution_count": 5,
   "id": "509178fd",
   "metadata": {},
   "outputs": [
    {
     "name": "stdout",
     "output_type": "stream",
     "text": [
      "(181, 11)\n"
     ]
    }
   ],
   "source": [
    "# Get the shape of the DataFrame\n",
    "print(data.shape)"
   ]
  },
  {
   "cell_type": "markdown",
   "id": "02526b9a",
   "metadata": {},
   "source": [
    "#### Inference\n",
    "* The dataset consists of 181 rows and 11 columns, indicating a relatively small yet sufficient sample size for conducting a detailed analysis of the health-related features and binary classification labels."
   ]
  },
  {
   "cell_type": "code",
   "execution_count": 6,
   "id": "19d743dc",
   "metadata": {},
   "outputs": [
    {
     "data": {
      "text/html": [
       "<div>\n",
       "<style scoped>\n",
       "    .dataframe tbody tr th:only-of-type {\n",
       "        vertical-align: middle;\n",
       "    }\n",
       "\n",
       "    .dataframe tbody tr th {\n",
       "        vertical-align: top;\n",
       "    }\n",
       "\n",
       "    .dataframe thead th {\n",
       "        text-align: right;\n",
       "    }\n",
       "</style>\n",
       "<table border=\"1\" class=\"dataframe\">\n",
       "  <thead>\n",
       "    <tr style=\"text-align: right;\">\n",
       "      <th></th>\n",
       "      <th>pregnant</th>\n",
       "      <th>glucose</th>\n",
       "      <th>diastolic</th>\n",
       "      <th>skinfold</th>\n",
       "      <th>insulin</th>\n",
       "      <th>bmi</th>\n",
       "      <th>pedigree</th>\n",
       "      <th>age</th>\n",
       "      <th>class</th>\n",
       "      <th>scored.class</th>\n",
       "      <th>scored.probability</th>\n",
       "    </tr>\n",
       "  </thead>\n",
       "  <tbody>\n",
       "    <tr>\n",
       "      <th>count</th>\n",
       "      <td>181.000000</td>\n",
       "      <td>181.000000</td>\n",
       "      <td>181.000000</td>\n",
       "      <td>181.000000</td>\n",
       "      <td>181.000000</td>\n",
       "      <td>181.000000</td>\n",
       "      <td>181.000000</td>\n",
       "      <td>181.000000</td>\n",
       "      <td>181.000000</td>\n",
       "      <td>181.000000</td>\n",
       "      <td>181.000000</td>\n",
       "    </tr>\n",
       "    <tr>\n",
       "      <th>mean</th>\n",
       "      <td>3.861878</td>\n",
       "      <td>118.303867</td>\n",
       "      <td>71.701657</td>\n",
       "      <td>19.801105</td>\n",
       "      <td>63.767956</td>\n",
       "      <td>31.577901</td>\n",
       "      <td>0.449641</td>\n",
       "      <td>33.314917</td>\n",
       "      <td>0.314917</td>\n",
       "      <td>0.176796</td>\n",
       "      <td>0.303726</td>\n",
       "    </tr>\n",
       "    <tr>\n",
       "      <th>std</th>\n",
       "      <td>3.236551</td>\n",
       "      <td>30.484084</td>\n",
       "      <td>11.802987</td>\n",
       "      <td>15.692326</td>\n",
       "      <td>88.734756</td>\n",
       "      <td>6.659935</td>\n",
       "      <td>0.284006</td>\n",
       "      <td>11.183582</td>\n",
       "      <td>0.465771</td>\n",
       "      <td>0.382554</td>\n",
       "      <td>0.231235</td>\n",
       "    </tr>\n",
       "    <tr>\n",
       "      <th>min</th>\n",
       "      <td>0.000000</td>\n",
       "      <td>57.000000</td>\n",
       "      <td>38.000000</td>\n",
       "      <td>0.000000</td>\n",
       "      <td>0.000000</td>\n",
       "      <td>19.400000</td>\n",
       "      <td>0.085000</td>\n",
       "      <td>21.000000</td>\n",
       "      <td>0.000000</td>\n",
       "      <td>0.000000</td>\n",
       "      <td>0.023228</td>\n",
       "    </tr>\n",
       "    <tr>\n",
       "      <th>25%</th>\n",
       "      <td>1.000000</td>\n",
       "      <td>99.000000</td>\n",
       "      <td>64.000000</td>\n",
       "      <td>0.000000</td>\n",
       "      <td>0.000000</td>\n",
       "      <td>26.300000</td>\n",
       "      <td>0.257000</td>\n",
       "      <td>24.000000</td>\n",
       "      <td>0.000000</td>\n",
       "      <td>0.000000</td>\n",
       "      <td>0.117024</td>\n",
       "    </tr>\n",
       "    <tr>\n",
       "      <th>50%</th>\n",
       "      <td>3.000000</td>\n",
       "      <td>112.000000</td>\n",
       "      <td>70.000000</td>\n",
       "      <td>22.000000</td>\n",
       "      <td>0.000000</td>\n",
       "      <td>31.600000</td>\n",
       "      <td>0.391000</td>\n",
       "      <td>30.000000</td>\n",
       "      <td>0.000000</td>\n",
       "      <td>0.000000</td>\n",
       "      <td>0.239994</td>\n",
       "    </tr>\n",
       "    <tr>\n",
       "      <th>75%</th>\n",
       "      <td>6.000000</td>\n",
       "      <td>136.000000</td>\n",
       "      <td>78.000000</td>\n",
       "      <td>32.000000</td>\n",
       "      <td>105.000000</td>\n",
       "      <td>36.000000</td>\n",
       "      <td>0.580000</td>\n",
       "      <td>41.000000</td>\n",
       "      <td>1.000000</td>\n",
       "      <td>0.000000</td>\n",
       "      <td>0.430926</td>\n",
       "    </tr>\n",
       "    <tr>\n",
       "      <th>max</th>\n",
       "      <td>15.000000</td>\n",
       "      <td>197.000000</td>\n",
       "      <td>104.000000</td>\n",
       "      <td>54.000000</td>\n",
       "      <td>543.000000</td>\n",
       "      <td>50.000000</td>\n",
       "      <td>2.288000</td>\n",
       "      <td>67.000000</td>\n",
       "      <td>1.000000</td>\n",
       "      <td>1.000000</td>\n",
       "      <td>0.946334</td>\n",
       "    </tr>\n",
       "  </tbody>\n",
       "</table>\n",
       "</div>"
      ],
      "text/plain": [
       "         pregnant     glucose   diastolic    skinfold     insulin         bmi  \\\n",
       "count  181.000000  181.000000  181.000000  181.000000  181.000000  181.000000   \n",
       "mean     3.861878  118.303867   71.701657   19.801105   63.767956   31.577901   \n",
       "std      3.236551   30.484084   11.802987   15.692326   88.734756    6.659935   \n",
       "min      0.000000   57.000000   38.000000    0.000000    0.000000   19.400000   \n",
       "25%      1.000000   99.000000   64.000000    0.000000    0.000000   26.300000   \n",
       "50%      3.000000  112.000000   70.000000   22.000000    0.000000   31.600000   \n",
       "75%      6.000000  136.000000   78.000000   32.000000  105.000000   36.000000   \n",
       "max     15.000000  197.000000  104.000000   54.000000  543.000000   50.000000   \n",
       "\n",
       "         pedigree         age       class  scored.class  scored.probability  \n",
       "count  181.000000  181.000000  181.000000    181.000000          181.000000  \n",
       "mean     0.449641   33.314917    0.314917      0.176796            0.303726  \n",
       "std      0.284006   11.183582    0.465771      0.382554            0.231235  \n",
       "min      0.085000   21.000000    0.000000      0.000000            0.023228  \n",
       "25%      0.257000   24.000000    0.000000      0.000000            0.117024  \n",
       "50%      0.391000   30.000000    0.000000      0.000000            0.239994  \n",
       "75%      0.580000   41.000000    1.000000      0.000000            0.430926  \n",
       "max      2.288000   67.000000    1.000000      1.000000            0.946334  "
      ]
     },
     "execution_count": 6,
     "metadata": {},
     "output_type": "execute_result"
    }
   ],
   "source": [
    "# Summary statistics\n",
    "data.describe()"
   ]
  },
  {
   "cell_type": "markdown",
   "id": "b9bd6b7b",
   "metadata": {},
   "source": [
    "#### Inference\n",
    "\n",
    "* The dataset includes 181 observations and 11 columns.\n",
    "* 'Pregnant' ranges from 0 to 15, with an average of approximately 3.86.\n",
    "* 'Glucose' has a mean of around 118.30, ranging from 57 to 197.\n",
    "* 'Diastolic' blood pressure varies from 38 to 104, with a mean of about 71.70.\n",
    "* 'Skinfold' thickness ranges from 0 to 54, averaging around 19.80.\n",
    "* 'Insulin' levels range widely from 0 to 543, with an average of approximately 63.77.\n",
    "* 'BMI' varies from 19.40 to 50.00, with a mean of approximately 31.58.\n",
    "* 'Pedigree' values range from 0.085 to 2.288, averaging about 0.45.\n",
    "* 'Age' spans from 21 to 67, with an average of approximately 33.31.\n",
    "* 'Class' and 'Scored.Class' are binary labels with mean values of 0.31 and 0.18, respectively.\n",
    "* 'Scored.Probability' has a mean of about 0.30, ranging from 0.02 to 0.95."
   ]
  },
  {
   "cell_type": "markdown",
   "id": "d48abda7",
   "metadata": {},
   "source": [
    "##  2. Confusion Matrix Calculation"
   ]
  },
  {
   "cell_type": "code",
   "execution_count": 7,
   "id": "6eb0b14a",
   "metadata": {},
   "outputs": [
    {
     "data": {
      "text/html": [
       "<div>\n",
       "<style scoped>\n",
       "    .dataframe tbody tr th:only-of-type {\n",
       "        vertical-align: middle;\n",
       "    }\n",
       "\n",
       "    .dataframe tbody tr th {\n",
       "        vertical-align: top;\n",
       "    }\n",
       "\n",
       "    .dataframe thead th {\n",
       "        text-align: right;\n",
       "    }\n",
       "</style>\n",
       "<table border=\"1\" class=\"dataframe\">\n",
       "  <thead>\n",
       "    <tr style=\"text-align: right;\">\n",
       "      <th>scored.class</th>\n",
       "      <th>0</th>\n",
       "      <th>1</th>\n",
       "    </tr>\n",
       "    <tr>\n",
       "      <th>class</th>\n",
       "      <th></th>\n",
       "      <th></th>\n",
       "    </tr>\n",
       "  </thead>\n",
       "  <tbody>\n",
       "    <tr>\n",
       "      <th>0</th>\n",
       "      <td>119</td>\n",
       "      <td>5</td>\n",
       "    </tr>\n",
       "    <tr>\n",
       "      <th>1</th>\n",
       "      <td>30</td>\n",
       "      <td>27</td>\n",
       "    </tr>\n",
       "  </tbody>\n",
       "</table>\n",
       "</div>"
      ],
      "text/plain": [
       "scored.class    0   1\n",
       "class                \n",
       "0             119   5\n",
       "1              30  27"
      ]
     },
     "execution_count": 7,
     "metadata": {},
     "output_type": "execute_result"
    }
   ],
   "source": [
    "# Crosstab to calculate the confusion matrix\n",
    "confusion_matrix = pd.crosstab(data['class'], data['scored.class'])\n",
    "\n",
    "# Display the confusion matrix\n",
    "confusion_matrix"
   ]
  },
  {
   "cell_type": "markdown",
   "id": "94018925",
   "metadata": {},
   "source": [
    "#### Inference\n",
    "* For the actual class '0', the model predicted '0' (True Negatives) 119 times and '1' (False Positives) 5 times.\n",
    "* For the actual class '1', the model predicted '0' (False Negatives) 30 times and '1' (True Positives) 27 times."
   ]
  },
  {
   "cell_type": "code",
   "execution_count": 8,
   "id": "661c2263",
   "metadata": {},
   "outputs": [
    {
     "name": "stdout",
     "output_type": "stream",
     "text": [
      "0    124\n",
      "1     57\n",
      "Name: class, dtype: int64\n",
      "0    149\n",
      "1     32\n",
      "Name: scored.class, dtype: int64\n"
     ]
    }
   ],
   "source": [
    "# Check value counts for columns used in crosstab\n",
    "print(data['class'].value_counts())\n",
    "print(data['scored.class'].value_counts())"
   ]
  },
  {
   "cell_type": "markdown",
   "id": "f0108c75",
   "metadata": {},
   "source": [
    "#### Inference\n",
    "* There were 124 instances of actual class '0' in the dataset.\n",
    "* There were 57 instances of actual class '1' in the dataset.\n",
    "* The model predicted '0' in 149 instances.\n",
    "* The model predicted '1' in 32 instances."
   ]
  },
  {
   "cell_type": "markdown",
   "id": "ac9da293",
   "metadata": {},
   "source": [
    "## 3. Extract Confusion matrix values"
   ]
  },
  {
   "cell_type": "code",
   "execution_count": 9,
   "id": "8c010f0f",
   "metadata": {},
   "outputs": [
    {
     "name": "stdout",
     "output_type": "stream",
     "text": [
      "True Positives (TP): 27\n",
      "False Positives (FP): 30\n",
      "True Negatives (TN): 119\n",
      "False Negatives (FN): 5\n"
     ]
    }
   ],
   "source": [
    "# Extract confusion matrix values\n",
    "TP = confusion_matrix[1][1]\n",
    "FP = confusion_matrix[0][1]\n",
    "TN = confusion_matrix[0][0]\n",
    "FN = confusion_matrix[1][0]\n",
    "\n",
    "# Print the values\n",
    "print(\"True Positives (TP):\", TP)\n",
    "print(\"False Positives (FP):\", FP)\n",
    "print(\"True Negatives (TN):\", TN)\n",
    "print(\"False Negatives (FN):\", FN)"
   ]
  },
  {
   "cell_type": "markdown",
   "id": "fa037100",
   "metadata": {},
   "source": [
    "#### Inference\n",
    "* There were 27 True Positives (model correctly predicted class '1').\n",
    "* There were 30 False Positives (model incorrectly predicted class '1' when the actual was '0').\n",
    "* There were 119 True Negatives (model correctly predicted class '0').\n",
    "* There were 5 False Negatives (model incorrectly predicted class '0' when the actual was '1')."
   ]
  },
  {
   "cell_type": "markdown",
   "id": "d044e2aa",
   "metadata": {},
   "source": [
    "## 4. Accuracy Metric Calculation Function"
   ]
  },
  {
   "cell_type": "code",
   "execution_count": 10,
   "id": "4a73adc7",
   "metadata": {},
   "outputs": [
    {
     "name": "stdout",
     "output_type": "stream",
     "text": [
      "Accuracy: 0.8066298342541437\n"
     ]
    }
   ],
   "source": [
    "def calculate_accuracy(TP, FP, TN, FN):\n",
    "    accuracy = (TP + TN) / (TP + FP + TN + FN)\n",
    "    return accuracy\n",
    "\n",
    "# Call the function with extracted values & print the Accuracy\n",
    "accuracy = calculate_accuracy(TP, FP, TN, FN)\n",
    "print(\"Accuracy:\", accuracy)"
   ]
  },
  {
   "cell_type": "markdown",
   "id": "dc60b1e5",
   "metadata": {},
   "source": [
    "#### Inference\n",
    "* The calculated accuracy of the classification model was approximately 80.66%.\n",
    "* This metric represents the proportion of correctly predicted observations (True Positives and True Negatives) among all observations in the dataset."
   ]
  },
  {
   "cell_type": "markdown",
   "id": "dedba7f9",
   "metadata": {},
   "source": [
    "## 5. Precision metric Calculation Function"
   ]
  },
  {
   "cell_type": "code",
   "execution_count": 11,
   "id": "4076fd84",
   "metadata": {},
   "outputs": [
    {
     "name": "stdout",
     "output_type": "stream",
     "text": [
      "Precision: 0.47368421052631576\n"
     ]
    }
   ],
   "source": [
    "def calculate_precision(TP, FP):\n",
    "    precision = TP / (TP + FP) if (TP + FP) != 0 else 0\n",
    "    return precision\n",
    "\n",
    "# Call the function with extracted values\n",
    "precision = calculate_precision(TP, FP)\n",
    "print(\"Precision:\", precision)"
   ]
  },
  {
   "cell_type": "markdown",
   "id": "d0d62eeb",
   "metadata": {},
   "source": [
    "#### Inference\n",
    "* The precision of the classification model was approximately 47.37%.\n",
    "* This metric represents the proportion of correctly predicted positive observations (True Positives) among all instances predicted as positive (True Positives and False Positives)."
   ]
  },
  {
   "cell_type": "markdown",
   "id": "83f9b7f4",
   "metadata": {},
   "source": [
    "## 6. Sensitivity (Recall) Metric Calculation Function"
   ]
  },
  {
   "cell_type": "code",
   "execution_count": 12,
   "id": "4973b44b",
   "metadata": {},
   "outputs": [
    {
     "name": "stdout",
     "output_type": "stream",
     "text": [
      "Sensitivity (Recall): 0.84375\n"
     ]
    }
   ],
   "source": [
    "def calculate_sensitivity(TP, FN):\n",
    "    sensitivity = TP / (TP + FN) if (TP + FN) != 0 else 0\n",
    "    return sensitivity\n",
    "\n",
    "# Call the function with extracted values\n",
    "sensitivity = calculate_sensitivity(TP, FN)\n",
    "print(\"Sensitivity (Recall):\", sensitivity)"
   ]
  },
  {
   "cell_type": "markdown",
   "id": "d21ccdc7",
   "metadata": {},
   "source": [
    "#### Inference\n",
    "* The sensitivity (recall) of the classification model was approximately 84.38%.\n",
    "* This metric represents the proportion of correctly predicted positive observations (True Positives) among all actual positive instances (True Positives and False Negatives)."
   ]
  },
  {
   "cell_type": "markdown",
   "id": "e185ae27",
   "metadata": {},
   "source": [
    "## 7. Specificity Metric Calculation Function"
   ]
  },
  {
   "cell_type": "code",
   "execution_count": 13,
   "id": "10a55a33",
   "metadata": {},
   "outputs": [
    {
     "name": "stdout",
     "output_type": "stream",
     "text": [
      "Specificity: 0.7986577181208053\n"
     ]
    }
   ],
   "source": [
    "def calculate_specificity(TN, FP):\n",
    "    specificity = TN / (TN + FP) if (TN + FP) != 0 else 0\n",
    "    return specificity\n",
    "\n",
    "# Call the function with extracted values\n",
    "specificity = calculate_specificity(TN, FP)\n",
    "print(\"Specificity:\", specificity)"
   ]
  },
  {
   "cell_type": "markdown",
   "id": "92a922e3",
   "metadata": {},
   "source": [
    "#### Inference\n",
    "* The specificity of the classification model was approximately 79.87%.\n",
    "* This metric represents the proportion of correctly predicted negative observations (True Negatives) among all actual negative instances (True Negatives and False Positives)."
   ]
  },
  {
   "cell_type": "markdown",
   "id": "bdd20b5d",
   "metadata": {},
   "source": [
    "## 8. F1 Score Metric Calculation Function"
   ]
  },
  {
   "cell_type": "code",
   "execution_count": 14,
   "id": "4e9ad808",
   "metadata": {},
   "outputs": [
    {
     "name": "stdout",
     "output_type": "stream",
     "text": [
      "F1 Score: 0.6067415730337079\n"
     ]
    }
   ],
   "source": [
    "def calculate_f1_score(precision, recall):\n",
    "    f1_score = 2 * (precision * recall) / (precision + recall) if (precision + recall) != 0 else 0\n",
    "    return f1_score\n",
    "\n",
    "# Call the function with precision and recall values\n",
    "f1_score = calculate_f1_score(precision, sensitivity)\n",
    "print(\"F1 Score:\", f1_score)"
   ]
  },
  {
   "cell_type": "markdown",
   "id": "9cccc11a",
   "metadata": {},
   "source": [
    "#### Inference\n",
    "* The F1 Score of the classification model was approximately 60.67%.\n",
    "* This metric provides a balance between precision and recall, taking into account both false positives and false negatives."
   ]
  },
  {
   "cell_type": "markdown",
   "id": "81b52a51",
   "metadata": {},
   "source": [
    "## 9. ROC Curve and AUC Calculation Function"
   ]
  },
  {
   "cell_type": "code",
   "execution_count": 15,
   "id": "a13b782e",
   "metadata": {},
   "outputs": [
    {
     "data": {
      "image/png": "[encoded data removed]",
      "text/plain": [
       "<Figure size 800x800 with 1 Axes>"
      ]
     },
     "metadata": {},
     "output_type": "display_data"
    },
    {
     "name": "stdout",
     "output_type": "stream",
     "text": [
      "AUC: -5.0000000000000005e-21\n"
     ]
    }
   ],
   "source": [
    "def plot_roc_curve_and_auc(actual, predicted, probabilities):\n",
    "    # Calculate True Positive Rate (Sensitivity) and False Positive Rate\n",
    "    tpr = [1e-10]  # small non-zero value to avoid division by zero\n",
    "    fpr = [1e-10]  # small non-zero value to avoid division by zero\n",
    "    thresholds = sorted(probabilities, reverse=True)\n",
    "\n",
    "    for threshold in thresholds:\n",
    "        predicted_binary = [1 if prob >= threshold else 0 for prob in probabilities]\n",
    "        tp = sum((actual == 1) & (predicted_binary == 1))\n",
    "        fp = sum((actual == 0) & (predicted_binary == 1))\n",
    "        fn = sum((actual == 1) & (predicted_binary == 0))\n",
    "        tn = sum((actual == 0) & (predicted_binary == 0))\n",
    "        \n",
    "        # Avoid division by zero\n",
    "        tpr.append(tp / (tp + fn + 1e-10))\n",
    "        fpr.append(fp / (fp + tn + 1e-10))\n",
    "\n",
    "    # Calculate AUC using trapezoidal rule\n",
    "    auc = np.trapz(tpr, fpr)\n",
    "\n",
    "    # Plot ROC Curve\n",
    "    plt.figure(figsize=(8, 8))\n",
    "    plt.plot(fpr, tpr, color='darkorange', lw=2, label=f'AUC = {auc:.2f}')\n",
    "    plt.plot([0, 1], [0, 1], color='navy', lw=2, linestyle='--')\n",
    "    plt.xlim([0.0, 1.0])\n",
    "    plt.ylim([0.0, 1.05])\n",
    "    plt.xlabel('False Positive Rate (1 - Specificity)')\n",
    "    plt.ylabel('True Positive Rate (Sensitivity)')\n",
    "    plt.title('ROC Curve')\n",
    "    plt.legend(loc=\"lower right\")\n",
    "    plt.show()\n",
    "\n",
    "    return auc\n",
    "\n",
    "# Call the function with actual, predicted, and probabilities\n",
    "roc_auc = plot_roc_curve_and_auc(data['class'], data['scored.class'], data['scored.probability'])\n",
    "print(\"AUC:\", roc_auc)"
   ]
  },
  {
   "cell_type": "markdown",
   "id": "00ae09f1",
   "metadata": {},
   "source": [
    "#### Inference\n",
    "\n",
    "* The ROC curve and AUC analysis revealed a significant issue with the classifier, resulting in a nonsensical negative AUC value. This suggests a critical flaw in the model's predictive performance.\n",
    "\n",
    "* The ROC curve revealed a model with no discriminative power, as indicated by its alignment with the line of no-discrimination.\n",
    "\n",
    "* The AUC value of approximately 0 suggested performance worse than random guessing.\n",
    "\n",
    "* True Positive Rate ranged from 0 to 1, and False Positive Rate also varied accordingly.\n",
    "\n",
    "* The model lacked predictive ability, necessitating revisiting and potential retraining with improved features or algorithms.\n",
    "\n",
    "* Relying on this model for decisions was not advisable due to its lack of advantage over random guessing.\n",
    "\n",
    "* Further investigation into data quality and model aspects was warranted for performance improvement.\n",
    "\n",
    "* The small negative AUC value hinted at a potential calculation or plotting error.\n",
    "\n",
    "* Lack of threshold information limited insights into model performance at specific decision points."
   ]
  },
  {
   "cell_type": "markdown",
   "id": "9c8830fe",
   "metadata": {},
   "source": [
    "## 10. Applying functions to Relevant Columns"
   ]
  },
  {
   "cell_type": "code",
   "execution_count": 16,
   "id": "34c33b92",
   "metadata": {},
   "outputs": [
    {
     "data": {
      "image/png": "[encoded data removed]",
      "text/plain": [
       "<Figure size 800x800 with 1 Axes>"
      ]
     },
     "metadata": {},
     "output_type": "display_data"
    },
    {
     "name": "stdout",
     "output_type": "stream",
     "text": [
      "Precision: 0.47368421052631576\n",
      "Sensitivity (Recall): 0.84375\n",
      "Specificity: 0.7986577181208053\n",
      "F1 Score: 0.6067415730337079\n",
      "AUC: -5.0000000000000005e-21\n"
     ]
    }
   ],
   "source": [
    "# Step 5: Precision\n",
    "precision = calculate_precision(TP, FP)\n",
    "\n",
    "# Step 6: Sensitivity (Recall)\n",
    "sensitivity = calculate_sensitivity(TP, FN)\n",
    "\n",
    "# Step 7: Specificity\n",
    "specificity = calculate_specificity(TN, FP)\n",
    "\n",
    "# Step 8: F1 Score\n",
    "f1_score = calculate_f1_score(precision, sensitivity)\n",
    "\n",
    "# Step 9: ROC Curve and AUC\n",
    "roc_auc = plot_roc_curve_and_auc(data['class'], data['scored.class'], data['scored.probability'])\n",
    "\n",
    "# Display results\n",
    "print(\"Precision:\", precision)\n",
    "print(\"Sensitivity (Recall):\", sensitivity)\n",
    "print(\"Specificity:\", specificity)\n",
    "print(\"F1 Score:\", f1_score)\n",
    "print(\"AUC:\", roc_auc)"
   ]
  },
  {
   "cell_type": "markdown",
   "id": "511f1cd3",
   "metadata": {},
   "source": [
    "#### Inference\n",
    "\n",
    "* The ROC curve depicted resembled a straight line along the diagonal, indicating the classifier's performance was equivalent to random guessing, and no distinct ROC curve was observed.\n",
    "\n",
    "* Both the True Positive Rate (TPR) and False Positive Rate (FPR) ranged from 0 to 1. The classifier's performance was not evident from the graph as it lacked a distinct ROC curve.\n",
    "\n",
    "* The Area Under the Curve (AUC) was displayed as -0.00, a value inconsistent with the standard AUC interpretation of 0 to 1. This raised concerns about the accuracy or representation of the AUC.\n",
    "\n",
    "* The ROC curve suggested that the classifier did not surpass random guessing, implying potential issues such as improper model selection, insufficient training, overfitting, or a lack of predictive features.\n",
    "\n",
    "* The graph indicated that the classifier, in its current state, was not useful. Further investigation into data preprocessing, feature engineering, model tuning, or alternative algorithms was necessary.\n",
    "\n",
    "* The poor performance prompted a need for a comprehensive assessment of data representativeness and informativeness for training, with a focus on understanding the root cause of the classifier's limitations.\n",
    "\n",
    "* The inconsistent AUC value raised questions about potential errors in calculation or plotting, requiring careful examination and verification of the AUC computation and visualization process.\n",
    "\n",
    "* Specific improvements or recommendations for the classifier could not be made without additional context or data details, emphasizing the need for a more thorough understanding of the dataset and classifier characteristics.\n",
    "\n",
    "* In the evaluation of the classification model, precision was 0.47, sensitivity (recall) stood at 0.84, specificity was 0.80, and the F1 score reached 0.61. The AUC was close to zero."
   ]
  },
  {
   "cell_type": "markdown",
   "id": "50ca5216",
   "metadata": {},
   "source": [
    "## 11. Comparision with Scikit-Learn Functions"
   ]
  },
  {
   "cell_type": "code",
   "execution_count": 17,
   "id": "54dc6f50",
   "metadata": {},
   "outputs": [],
   "source": [
    "# import library\n",
    "from sklearn.metrics import confusion_matrix, accuracy_score, precision_score, recall_score, f1_score, classification_report, roc_curve, auc"
   ]
  },
  {
   "cell_type": "code",
   "execution_count": 18,
   "id": "6f44ee71",
   "metadata": {},
   "outputs": [
    {
     "name": "stdout",
     "output_type": "stream",
     "text": [
      "Confusion Matrix (scikit-learn):\n",
      " [[119   5]\n",
      " [ 30  27]]\n",
      "Accuracy (scikit-learn): 0.8066298342541437\n",
      "Precision (scikit-learn): 0.84375\n",
      "Recall (scikit-learn): 0.47368421052631576\n",
      "F1 Score (scikit-learn): 0.6067415730337079\n",
      "Classification Report (scikit-learn):\n",
      "               precision    recall  f1-score   support\n",
      "\n",
      "           0       0.80      0.96      0.87       124\n",
      "           1       0.84      0.47      0.61        57\n",
      "\n",
      "    accuracy                           0.81       181\n",
      "   macro avg       0.82      0.72      0.74       181\n",
      "weighted avg       0.81      0.81      0.79       181\n",
      "\n",
      "AUC (scikit-learn): 0.8503112620260327\n"
     ]
    }
   ],
   "source": [
    "# Confusion Matrix\n",
    "conf_matrix_sklearn = confusion_matrix(data['class'], data['scored.class'])\n",
    "\n",
    "# Accuracy\n",
    "accuracy_sklearn = accuracy_score(data['class'], data['scored.class'])\n",
    "\n",
    "# Precision\n",
    "precision_sklearn = precision_score(data['class'], data['scored.class'])\n",
    "\n",
    "# Recall (Sensitivity)\n",
    "recall_sklearn = recall_score(data['class'], data['scored.class'])\n",
    "\n",
    "# F1 Score\n",
    "f1_score_sklearn = f1_score(data['class'], data['scored.class'])\n",
    "\n",
    "# Classification Report\n",
    "classification_report_sklearn = classification_report(data['class'], data['scored.class'])\n",
    "\n",
    "# ROC Curve and AUC\n",
    "fpr_sklearn, tpr_sklearn, _ = roc_curve(data['class'], data['scored.probability'])\n",
    "roc_auc_sklearn = auc(fpr_sklearn, tpr_sklearn)\n",
    "\n",
    "# Display results\n",
    "print(\"Confusion Matrix (scikit-learn):\\n\", conf_matrix_sklearn)\n",
    "print(\"Accuracy (scikit-learn):\", accuracy_sklearn)\n",
    "print(\"Precision (scikit-learn):\", precision_sklearn)\n",
    "print(\"Recall (scikit-learn):\", recall_sklearn)\n",
    "print(\"F1 Score (scikit-learn):\", f1_score_sklearn)\n",
    "print(\"Classification Report (scikit-learn):\\n\", classification_report_sklearn)\n",
    "print(\"AUC (scikit-learn):\", roc_auc_sklearn)"
   ]
  },
  {
   "cell_type": "markdown",
   "id": "db2b3096",
   "metadata": {},
   "source": [
    "#### Inference\n",
    "\n",
    "* The confusion matrix from scikit-learn indicated that the classifier correctly predicted 119 instances of class 0 and 27 instances of class 1. However, there were 30 false positives and 5 false negatives.\n",
    "* The overall accuracy of the classifier, calculated by scikit-learn, was found to be approximately 80.66%.\n",
    "* Precision, a measure of the classifier's ability to correctly identify positive instances, was determined to be 84.38%.\n",
    "* Recall (Sensitivity), representing the classifier's ability to capture all positive instances, was observed to be 47.37%.\n",
    "* The F1 score, which balances precision and recall, was computed as 60.67%.\n",
    "* The classification report provided a detailed overview of precision, recall, and F1 score for both classes (0 and 1). Class 0 exhibited higher precision and recall compared to Class 1.\n",
    "* The macro-average and weighted-average metrics in the classification report highlighted an overall assessment of the classifier's performance, with macro avg F1-score at 0.74 and weighted avg F1-score at 0.79.\n",
    "* The AUC (Area Under the Curve) calculated by scikit-learn was 0.85, suggesting that the classifier had a reasonable ability to discriminate between positive and negative instances, with higher values indicating better performance."
   ]
  },
  {
   "cell_type": "markdown",
   "id": "a66aa1c3",
   "metadata": {},
   "source": [
    "## 12. Comparision with Scikit-learn's ROC/AUC functions"
   ]
  },
  {
   "cell_type": "code",
   "execution_count": 19,
   "id": "95f3a724",
   "metadata": {},
   "outputs": [
    {
     "data": {
      "image/png": "[encoded data removed]",
      "text/plain": [
       "<Figure size 800x800 with 1 Axes>"
      ]
     },
     "metadata": {},
     "output_type": "display_data"
    },
    {
     "name": "stdout",
     "output_type": "stream",
     "text": [
      "AUC (scikit-learn function): 0.8503112620260327\n"
     ]
    }
   ],
   "source": [
    "# Calculate AUC\n",
    "roc_auc = roc_auc_score(data['class'], data['scored.probability'])\n",
    "\n",
    "# Plot ROC Curve using scikit-learn's RocCurveDisplay\n",
    "fig, ax = plt.subplots(figsize=(8, 8))\n",
    "roc_display = RocCurveDisplay.from_predictions(data['class'], data['scored.probability'], ax=ax)\n",
    "plt.title('ROC Curve (scikit-learn)')\n",
    "plt.show()\n",
    "\n",
    "# Display AUC\n",
    "print(\"AUC (scikit-learn function):\", roc_auc)"
   ]
  },
  {
   "cell_type": "markdown",
   "id": "344b233e",
   "metadata": {},
   "source": [
    "#### Inference\n",
    "* The ROC curve visually depicted the trade-off between true positive rate and false positive rate.\n",
    "* The curve demonstrated the classifier's better-than-random ability to distinguish between the two classes.\n",
    "* The AUC of 0.85 indicated the model's reasonable discriminatory ability.\n",
    "* The stair-step pattern suggested the presence of discrete probability scores in the data.\n",
    "* The highest TPR of 1.0 and lowest FPR of 0.0 indicated thresholds where the classifier achieved perfect sensitivity without any false positives.\n",
    "* The AUC value of 0.85 suggested an 85% chance that the classifier would rank a randomly chosen positive instance higher than a randomly chosen negative instance.\n",
    "* The ROC curve and AUC could aid in selecting an appropriate threshold based on the specific costs associated with false positives and false negatives.\n",
    "* The AUC comparison with other classifiers could inform decisions about model selection or improvements.\n",
    "* Limitations included the lack of information about the actual number of true and false positives and negatives, the class distribution, and the prevalence of instances in the dataset.\n",
    "* Considering additional metrics such as precision, recall, or the F1 score might be necessary, especially if the costs of false positives and false negatives differ significantly."
   ]
  },
  {
   "cell_type": "markdown",
   "id": "10fd84e9",
   "metadata": {},
   "source": [
    "## Conclusion\n",
    "\n",
    "* The dataset, consisting of around 180 binary observations, underwent thorough evaluation using a combination of custom Python functions and scikit-learn's pre-built functions.\n",
    "\n",
    "* Confusion matrix analysis revealed specific values for True Positive, False Positive, True Negative, and False Negative, forming the basis for subsequent metric calculations.\n",
    "\n",
    "* Custom Python functions were developed for accuracy, precision, sensitivity, specificity, and F1 Score without reliance on pre-built Python functions.\n",
    "\n",
    "* Comparison between custom and scikit-learn functions showcased alignment in results, indicating the accuracy and correctness of the custom implementations.\n",
    "\n",
    "* The Receiver Operating Characteristic (ROC) curve and Area Under the Curve (AUC) analysis illustrated the model's discriminatory performance across various thresholds.\n",
    "\n",
    "* The scikit-learn library's ROC and AUC functions produced comparable results to the custom implementations, affirming the validity and reliability of the custom ROC/AUC function.\n",
    "\n",
    "* Insights gained from the AUC value (0.85) indicated that the model possesses better-than-random discriminative ability, albeit not perfect.\n",
    "\n",
    "* The performance metrics, including accuracy (80.66%), precision (47.37%), sensitivity (84.38%), specificity (79.87%), and F1 Score (60.67%), collectively portrayed the model's strengths and weaknesses.\n",
    "\n",
    "* Decision-making based on these metrics would involve selecting an appropriate threshold to balance the trade-off between true positives and false positives.\n",
    "\n",
    "* Limitations include the absence of context regarding the significance of false positives and false negatives in the specific application and the necessity for additional metrics like precision, recall, or the F1 Score in certain scenarios.\n",
    "\n",
    "* The comprehensive evaluation provides a robust foundation for understanding the model's performance and informs further steps for potential improvement or adjustments."
   ]
  },
  {
   "cell_type": "markdown",
   "id": "eec667ef",
   "metadata": {},
   "source": [
    "## Overall Observation\n",
    "The evaluation of a binary classification model on a dataset of approximately 180 observations revealed insights into its performance. Custom Python functions aligned with scikit-learn's pre-built metrics, validating the accuracy of the custom implementations. The ROC curve and AUC analysis demonstrated the model's discriminative ability, while individual metrics (accuracy, precision, sensitivity, specificity, and F1 Score) provided an understanding of its strengths and weaknesses. Decision-making would involve selecting an optimal threshold. The evaluation process offers a solid foundation for refining and optimizing the model."
   ]
  },
  {
   "cell_type": "code",
   "execution_count": null,
   "id": "64c38190",
   "metadata": {},
   "outputs": [],
   "source": []
  }
 ],
 "metadata": {
  "kernelspec": {
   "display_name": "Python 3 (ipykernel)",
   "language": "python",
   "name": "python3"
  },
  "language_info": {
   "codemirror_mode": {
    "name": "ipython",
    "version": 3
   },
   "file_extension": ".py",
   "mimetype": "text/x-python",
   "name": "python",
   "nbconvert_exporter": "python",
   "pygments_lexer": "ipython3",
   "version": "3.9.13"
  }
 },
 "nbformat": 4,
 "nbformat_minor": 5
}
